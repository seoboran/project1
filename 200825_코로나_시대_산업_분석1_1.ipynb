{
  "nbformat": 4,
  "nbformat_minor": 0,
  "metadata": {
    "colab": {
      "name": "200825_코로나 시대 산업 분석1-1.ipynb",
      "provenance": [],
      "collapsed_sections": [],
      "authorship_tag": "ABX9TyMq7r0h7BD0ekWLuOOvOZg8",
      "include_colab_link": true
    },
    "kernelspec": {
      "name": "python3",
      "display_name": "Python 3"
    }
  },
  "cells": [
    {
      "cell_type": "markdown",
      "metadata": {
        "id": "view-in-github",
        "colab_type": "text"
      },
      "source": [
        "<a href=\"https://colab.research.google.com/github/seoboran/project1/blob/master/200825_%EC%BD%94%EB%A1%9C%EB%82%98_%EC%8B%9C%EB%8C%80_%EC%82%B0%EC%97%85_%EB%B6%84%EC%84%9D1_1.ipynb\" target=\"_parent\"><img src=\"https://colab.research.google.com/assets/colab-badge.svg\" alt=\"Open In Colab\"/></a>"
      ]
    },
    {
      "cell_type": "code",
      "metadata": {
        "id": "3ejSPFA2lpZj",
        "colab_type": "code",
        "colab": {
          "base_uri": "https://localhost:8080/",
          "height": 75
        },
        "outputId": "eb93cff0-e2fd-4437-8138-e206b75ea62c"
      },
      "source": [
        "import numpy as np\n",
        "import pandas as pd\n",
        "import matplotlib.pyplot as plt\n",
        "%matplotlib inline\n",
        "import seaborn as sns"
      ],
      "execution_count": 2,
      "outputs": [
        {
          "output_type": "stream",
          "text": [
            "/usr/local/lib/python3.6/dist-packages/statsmodels/tools/_testing.py:19: FutureWarning: pandas.util.testing is deprecated. Use the functions in the public API at pandas.testing instead.\n",
            "  import pandas.util.testing as tm\n"
          ],
          "name": "stderr"
        }
      ]
    },
    {
      "cell_type": "code",
      "metadata": {
        "id": "cjcBbKR9lpd-",
        "colab_type": "code",
        "colab": {}
      },
      "source": [
        "from IPython.display import Image"
      ],
      "execution_count": 4,
      "outputs": []
    },
    {
      "cell_type": "code",
      "metadata": {
        "id": "HLcZJ1a2lpgM",
        "colab_type": "code",
        "colab": {
          "base_uri": "https://localhost:8080/",
          "height": 55
        },
        "outputId": "1392d7c4-68ca-46b3-f7e0-0de899300886"
      },
      "source": [
        "# # 구글 드라이브에서 csv 파일을 읽어오기 위해 gauth 인증\n",
        "!pip install -U -q PyDrive\n",
        "from pydrive.auth import GoogleAuth\n",
        "from pydrive.drive import GoogleDrive\n",
        "from google.colab import auth\n",
        "from oauth2client.client import GoogleCredentials\n",
        "from google.colab import drive \n",
        "\n",
        "ROOT = \"/content/drive\"    \n",
        "print(ROOT)                 \n",
        "drive.mount(ROOT)"
      ],
      "execution_count": 57,
      "outputs": [
        {
          "output_type": "stream",
          "text": [
            "/content/drive\n",
            "Drive already mounted at /content/drive; to attempt to forcibly remount, call drive.mount(\"/content/drive\", force_remount=True).\n"
          ],
          "name": "stdout"
        }
      ]
    },
    {
      "cell_type": "code",
      "metadata": {
        "id": "zntIrjrXu_ym",
        "colab_type": "code",
        "colab": {
          "base_uri": "https://localhost:8080/",
          "height": 36
        },
        "outputId": "b27e9591-f7d3-4cc3-9b57-019c78a4732b"
      },
      "source": [
        "%pwd"
      ],
      "execution_count": 6,
      "outputs": [
        {
          "output_type": "execute_result",
          "data": {
            "application/vnd.google.colaboratory.intrinsic+json": {
              "type": "string"
            },
            "text/plain": [
              "'/content'"
            ]
          },
          "metadata": {
            "tags": []
          },
          "execution_count": 6
        }
      ]
    },
    {
      "cell_type": "code",
      "metadata": {
        "id": "YJAPZb0BuhqI",
        "colab_type": "code",
        "colab": {
          "base_uri": "https://localhost:8080/",
          "height": 36
        },
        "outputId": "4dffe301-c14a-4896-f000-4cbba6009053"
      },
      "source": [
        "%ls"
      ],
      "execution_count": 7,
      "outputs": [
        {
          "output_type": "stream",
          "text": [
            "\u001b[0m\u001b[01;34mdrive\u001b[0m/  \u001b[01;34msample_data\u001b[0m/\n"
          ],
          "name": "stdout"
        }
      ]
    },
    {
      "cell_type": "code",
      "metadata": {
        "id": "AU5tSu8XvuUH",
        "colab_type": "code",
        "colab": {
          "base_uri": "https://localhost:8080/",
          "height": 36
        },
        "outputId": "e1c81e73-f141-453b-e6cf-942db7606c13"
      },
      "source": [
        "%cd drive/'My Drive'/'Colab Notebooks'"
      ],
      "execution_count": 8,
      "outputs": [
        {
          "output_type": "stream",
          "text": [
            "/content/drive/My Drive/Colab Notebooks\n"
          ],
          "name": "stdout"
        }
      ]
    },
    {
      "cell_type": "code",
      "metadata": {
        "id": "WkTyrZG5wCSO",
        "colab_type": "code",
        "colab": {
          "base_uri": "https://localhost:8080/",
          "height": 36
        },
        "outputId": "7d9eac69-fe31-4270-e0e2-be0560b83079"
      },
      "source": [
        "%pwd"
      ],
      "execution_count": 9,
      "outputs": [
        {
          "output_type": "execute_result",
          "data": {
            "application/vnd.google.colaboratory.intrinsic+json": {
              "type": "string"
            },
            "text/plain": [
              "'/content/drive/My Drive/Colab Notebooks'"
            ]
          },
          "metadata": {
            "tags": []
          },
          "execution_count": 9
        }
      ]
    },
    {
      "cell_type": "code",
      "metadata": {
        "id": "VEbfxuO9wCN-",
        "colab_type": "code",
        "colab": {}
      },
      "source": [
        "%ls"
      ],
      "execution_count": null,
      "outputs": []
    },
    {
      "cell_type": "code",
      "metadata": {
        "id": "7i5R-ZIYwFz2",
        "colab_type": "code",
        "colab": {
          "base_uri": "https://localhost:8080/",
          "height": 415
        },
        "outputId": "f351fc50-748b-4bfe-b990-c4879cc24f0f"
      },
      "source": [
        "import pandas as pd\n",
        "from pandas.io import gbq\n",
        "\n",
        "index = pd.read_csv('index.csv')\n",
        "index"
      ],
      "execution_count": 45,
      "outputs": [
        {
          "output_type": "execute_result",
          "data": {
            "text/html": [
              "<div>\n",
              "<style scoped>\n",
              "    .dataframe tbody tr th:only-of-type {\n",
              "        vertical-align: middle;\n",
              "    }\n",
              "\n",
              "    .dataframe tbody tr th {\n",
              "        vertical-align: top;\n",
              "    }\n",
              "\n",
              "    .dataframe thead th {\n",
              "        text-align: right;\n",
              "    }\n",
              "</style>\n",
              "<table border=\"1\" class=\"dataframe\">\n",
              "  <thead>\n",
              "    <tr style=\"text-align: right;\">\n",
              "      <th></th>\n",
              "      <th>period</th>\n",
              "      <th>catl</th>\n",
              "      <th>catm</th>\n",
              "      <th>age</th>\n",
              "      <th>gender</th>\n",
              "      <th>sido</th>\n",
              "      <th>sigungu</th>\n",
              "      <th>cgi</th>\n",
              "    </tr>\n",
              "  </thead>\n",
              "  <tbody>\n",
              "    <tr>\n",
              "      <th>0</th>\n",
              "      <td>201901</td>\n",
              "      <td>건강/의료용품</td>\n",
              "      <td>건강관리용품</td>\n",
              "      <td>20</td>\n",
              "      <td>F</td>\n",
              "      <td>서울</td>\n",
              "      <td>관악구</td>\n",
              "      <td>115.374642</td>\n",
              "    </tr>\n",
              "    <tr>\n",
              "      <th>1</th>\n",
              "      <td>201901</td>\n",
              "      <td>건강/의료용품</td>\n",
              "      <td>건강관리용품</td>\n",
              "      <td>20</td>\n",
              "      <td>F</td>\n",
              "      <td>서울</td>\n",
              "      <td>광진구</td>\n",
              "      <td>119.596454</td>\n",
              "    </tr>\n",
              "    <tr>\n",
              "      <th>2</th>\n",
              "      <td>201901</td>\n",
              "      <td>건강/의료용품</td>\n",
              "      <td>건강관리용품</td>\n",
              "      <td>20</td>\n",
              "      <td>F</td>\n",
              "      <td>서울</td>\n",
              "      <td>도봉구</td>\n",
              "      <td>156.992847</td>\n",
              "    </tr>\n",
              "    <tr>\n",
              "      <th>3</th>\n",
              "      <td>201901</td>\n",
              "      <td>건강/의료용품</td>\n",
              "      <td>건강관리용품</td>\n",
              "      <td>20</td>\n",
              "      <td>F</td>\n",
              "      <td>서울</td>\n",
              "      <td>동작구</td>\n",
              "      <td>58.342726</td>\n",
              "    </tr>\n",
              "    <tr>\n",
              "      <th>4</th>\n",
              "      <td>201901</td>\n",
              "      <td>건강/의료용품</td>\n",
              "      <td>건강관리용품</td>\n",
              "      <td>20</td>\n",
              "      <td>F</td>\n",
              "      <td>서울</td>\n",
              "      <td>마포구</td>\n",
              "      <td>145.147595</td>\n",
              "    </tr>\n",
              "    <tr>\n",
              "      <th>...</th>\n",
              "      <td>...</td>\n",
              "      <td>...</td>\n",
              "      <td>...</td>\n",
              "      <td>...</td>\n",
              "      <td>...</td>\n",
              "      <td>...</td>\n",
              "      <td>...</td>\n",
              "      <td>...</td>\n",
              "    </tr>\n",
              "    <tr>\n",
              "      <th>127520</th>\n",
              "      <td>202005</td>\n",
              "      <td>화장품</td>\n",
              "      <td>화장품</td>\n",
              "      <td>all</td>\n",
              "      <td>all</td>\n",
              "      <td>서울</td>\n",
              "      <td>강서구</td>\n",
              "      <td>51.365660</td>\n",
              "    </tr>\n",
              "    <tr>\n",
              "      <th>127521</th>\n",
              "      <td>202005</td>\n",
              "      <td>화장품</td>\n",
              "      <td>화장품</td>\n",
              "      <td>all</td>\n",
              "      <td>all</td>\n",
              "      <td>서울</td>\n",
              "      <td>관악구</td>\n",
              "      <td>61.997865</td>\n",
              "    </tr>\n",
              "    <tr>\n",
              "      <th>127522</th>\n",
              "      <td>202005</td>\n",
              "      <td>화장품</td>\n",
              "      <td>화장품</td>\n",
              "      <td>all</td>\n",
              "      <td>all</td>\n",
              "      <td>서울</td>\n",
              "      <td>금천구</td>\n",
              "      <td>82.198402</td>\n",
              "    </tr>\n",
              "    <tr>\n",
              "      <th>127523</th>\n",
              "      <td>202005</td>\n",
              "      <td>화장품</td>\n",
              "      <td>화장품</td>\n",
              "      <td>all</td>\n",
              "      <td>all</td>\n",
              "      <td>서울</td>\n",
              "      <td>도봉구</td>\n",
              "      <td>35.875600</td>\n",
              "    </tr>\n",
              "    <tr>\n",
              "      <th>127524</th>\n",
              "      <td>202005</td>\n",
              "      <td>화장품</td>\n",
              "      <td>화장품</td>\n",
              "      <td>all</td>\n",
              "      <td>all</td>\n",
              "      <td>서울</td>\n",
              "      <td>용산구</td>\n",
              "      <td>45.569377</td>\n",
              "    </tr>\n",
              "  </tbody>\n",
              "</table>\n",
              "<p>127525 rows × 8 columns</p>\n",
              "</div>"
            ],
            "text/plain": [
              "        period     catl    catm  age gender sido sigungu         cgi\n",
              "0       201901  건강/의료용품  건강관리용품   20      F   서울     관악구  115.374642\n",
              "1       201901  건강/의료용품  건강관리용품   20      F   서울     광진구  119.596454\n",
              "2       201901  건강/의료용품  건강관리용품   20      F   서울     도봉구  156.992847\n",
              "3       201901  건강/의료용품  건강관리용품   20      F   서울     동작구   58.342726\n",
              "4       201901  건강/의료용품  건강관리용품   20      F   서울     마포구  145.147595\n",
              "...        ...      ...     ...  ...    ...  ...     ...         ...\n",
              "127520  202005      화장품     화장품  all    all   서울     강서구   51.365660\n",
              "127521  202005      화장품     화장품  all    all   서울     관악구   61.997865\n",
              "127522  202005      화장품     화장품  all    all   서울     금천구   82.198402\n",
              "127523  202005      화장품     화장품  all    all   서울     도봉구   35.875600\n",
              "127524  202005      화장품     화장품  all    all   서울     용산구   45.569377\n",
              "\n",
              "[127525 rows x 8 columns]"
            ]
          },
          "metadata": {
            "tags": []
          },
          "execution_count": 45
        }
      ]
    },
    {
      "cell_type": "code",
      "metadata": {
        "id": "oc52KFVOxzn3",
        "colab_type": "code",
        "colab": {
          "base_uri": "https://localhost:8080/",
          "height": 202
        },
        "outputId": "f877a3a3-0c5f-41e2-e23b-808dd52a682d"
      },
      "source": [
        "index.head()"
      ],
      "execution_count": 12,
      "outputs": [
        {
          "output_type": "execute_result",
          "data": {
            "text/html": [
              "<div>\n",
              "<style scoped>\n",
              "    .dataframe tbody tr th:only-of-type {\n",
              "        vertical-align: middle;\n",
              "    }\n",
              "\n",
              "    .dataframe tbody tr th {\n",
              "        vertical-align: top;\n",
              "    }\n",
              "\n",
              "    .dataframe thead th {\n",
              "        text-align: right;\n",
              "    }\n",
              "</style>\n",
              "<table border=\"1\" class=\"dataframe\">\n",
              "  <thead>\n",
              "    <tr style=\"text-align: right;\">\n",
              "      <th></th>\n",
              "      <th>period</th>\n",
              "      <th>catl</th>\n",
              "      <th>catm</th>\n",
              "      <th>age</th>\n",
              "      <th>gender</th>\n",
              "      <th>sido</th>\n",
              "      <th>sigungu</th>\n",
              "      <th>cgi</th>\n",
              "    </tr>\n",
              "  </thead>\n",
              "  <tbody>\n",
              "    <tr>\n",
              "      <th>0</th>\n",
              "      <td>201901</td>\n",
              "      <td>건강/의료용품</td>\n",
              "      <td>건강관리용품</td>\n",
              "      <td>20</td>\n",
              "      <td>F</td>\n",
              "      <td>서울</td>\n",
              "      <td>관악구</td>\n",
              "      <td>115.374642</td>\n",
              "    </tr>\n",
              "    <tr>\n",
              "      <th>1</th>\n",
              "      <td>201901</td>\n",
              "      <td>건강/의료용품</td>\n",
              "      <td>건강관리용품</td>\n",
              "      <td>20</td>\n",
              "      <td>F</td>\n",
              "      <td>서울</td>\n",
              "      <td>광진구</td>\n",
              "      <td>119.596454</td>\n",
              "    </tr>\n",
              "    <tr>\n",
              "      <th>2</th>\n",
              "      <td>201901</td>\n",
              "      <td>건강/의료용품</td>\n",
              "      <td>건강관리용품</td>\n",
              "      <td>20</td>\n",
              "      <td>F</td>\n",
              "      <td>서울</td>\n",
              "      <td>도봉구</td>\n",
              "      <td>156.992847</td>\n",
              "    </tr>\n",
              "    <tr>\n",
              "      <th>3</th>\n",
              "      <td>201901</td>\n",
              "      <td>건강/의료용품</td>\n",
              "      <td>건강관리용품</td>\n",
              "      <td>20</td>\n",
              "      <td>F</td>\n",
              "      <td>서울</td>\n",
              "      <td>동작구</td>\n",
              "      <td>58.342726</td>\n",
              "    </tr>\n",
              "    <tr>\n",
              "      <th>4</th>\n",
              "      <td>201901</td>\n",
              "      <td>건강/의료용품</td>\n",
              "      <td>건강관리용품</td>\n",
              "      <td>20</td>\n",
              "      <td>F</td>\n",
              "      <td>서울</td>\n",
              "      <td>마포구</td>\n",
              "      <td>145.147595</td>\n",
              "    </tr>\n",
              "  </tbody>\n",
              "</table>\n",
              "</div>"
            ],
            "text/plain": [
              "   period     catl    catm age gender sido sigungu         cgi\n",
              "0  201901  건강/의료용품  건강관리용품  20      F   서울     관악구  115.374642\n",
              "1  201901  건강/의료용품  건강관리용품  20      F   서울     광진구  119.596454\n",
              "2  201901  건강/의료용품  건강관리용품  20      F   서울     도봉구  156.992847\n",
              "3  201901  건강/의료용품  건강관리용품  20      F   서울     동작구   58.342726\n",
              "4  201901  건강/의료용품  건강관리용품  20      F   서울     마포구  145.147595"
            ]
          },
          "metadata": {
            "tags": []
          },
          "execution_count": 12
        }
      ]
    },
    {
      "cell_type": "markdown",
      "metadata": {
        "id": "BQuIU4VLxFpN",
        "colab_type": "text"
      },
      "source": [
        "### 변수 설명\n",
        "- period= 기준월\n",
        "- catl=대분류\n",
        "- catm=중분류\n",
        "- age=연령대\n",
        "- gender=성별\n",
        "- sido=서울시\n",
        "- sigungu= 구별 분류\n",
        "- cgi=카테고리성장지수()\n",
        "(100을 기준으로 이상이면 매출 상승, 이하면 하락) -> 소비 지수"
      ]
    },
    {
      "cell_type": "markdown",
      "metadata": {
        "id": "kQwWDhfvyW2n",
        "colab_type": "text"
      },
      "source": [
        "## 정보 확인"
      ]
    },
    {
      "cell_type": "code",
      "metadata": {
        "id": "TMD2AE7vwSj-",
        "colab_type": "code",
        "colab": {
          "base_uri": "https://localhost:8080/",
          "height": 297
        },
        "outputId": "1d48728a-62bd-439e-ef64-e824af5c7568"
      },
      "source": [
        "index.info()"
      ],
      "execution_count": 46,
      "outputs": [
        {
          "output_type": "stream",
          "text": [
            "<class 'pandas.core.frame.DataFrame'>\n",
            "RangeIndex: 127525 entries, 0 to 127524\n",
            "Data columns (total 8 columns):\n",
            " #   Column   Non-Null Count   Dtype  \n",
            "---  ------   --------------   -----  \n",
            " 0   period   127525 non-null  int64  \n",
            " 1   catl     127525 non-null  object \n",
            " 2   catm     127525 non-null  object \n",
            " 3   age      127525 non-null  object \n",
            " 4   gender   127525 non-null  object \n",
            " 5   sido     127525 non-null  object \n",
            " 6   sigungu  127525 non-null  object \n",
            " 7   cgi      127525 non-null  float64\n",
            "dtypes: float64(1), int64(1), object(6)\n",
            "memory usage: 7.8+ MB\n"
          ],
          "name": "stdout"
        }
      ]
    },
    {
      "cell_type": "code",
      "metadata": {
        "id": "g_e33JM80Fd8",
        "colab_type": "code",
        "colab": {
          "base_uri": "https://localhost:8080/",
          "height": 36
        },
        "outputId": "72366000-bc73-4d14-b762-36bd8427515f"
      },
      "source": [
        "index.shape"
      ],
      "execution_count": 15,
      "outputs": [
        {
          "output_type": "execute_result",
          "data": {
            "text/plain": [
              "(127525, 8)"
            ]
          },
          "metadata": {
            "tags": []
          },
          "execution_count": 15
        }
      ]
    },
    {
      "cell_type": "code",
      "metadata": {
        "id": "DOQ4uvDdwSx1",
        "colab_type": "code",
        "colab": {
          "base_uri": "https://localhost:8080/",
          "height": 73
        },
        "outputId": "dd5789a3-4c24-4c11-bd03-d533046185f5"
      },
      "source": [
        "index['catm'].unique()"
      ],
      "execution_count": 16,
      "outputs": [
        {
          "output_type": "execute_result",
          "data": {
            "text/plain": [
              "array(['건강관리용품', '가공식품', '기호식품', '담배', '빙과류', '빵류', '신선식품', '유제품류', '음료',\n",
              "       '제과류', '주류', '생활용품', '애완동물용품', '기타화장품', '바디/헤어용품', '뷰티소품', '화장품'],\n",
              "      dtype=object)"
            ]
          },
          "metadata": {
            "tags": []
          },
          "execution_count": 16
        }
      ]
    },
    {
      "cell_type": "markdown",
      "metadata": {
        "id": "2ckvEWKQyqyV",
        "colab_type": "text"
      },
      "source": [
        "### 19~20년 5월까지 소비지수 추이 확인 "
      ]
    },
    {
      "cell_type": "code",
      "metadata": {
        "id": "n-8_BQHVwS-2",
        "colab_type": "code",
        "colab": {
          "base_uri": "https://localhost:8080/",
          "height": 570
        },
        "outputId": "8bb3131f-091b-47bb-ad93-db949c40bee4"
      },
      "source": [
        "index2=index.groupby('period').mean()\n",
        "index2=index2.reset_index()\n",
        "index2"
      ],
      "execution_count": 48,
      "outputs": [
        {
          "output_type": "execute_result",
          "data": {
            "text/html": [
              "<div>\n",
              "<style scoped>\n",
              "    .dataframe tbody tr th:only-of-type {\n",
              "        vertical-align: middle;\n",
              "    }\n",
              "\n",
              "    .dataframe tbody tr th {\n",
              "        vertical-align: top;\n",
              "    }\n",
              "\n",
              "    .dataframe thead th {\n",
              "        text-align: right;\n",
              "    }\n",
              "</style>\n",
              "<table border=\"1\" class=\"dataframe\">\n",
              "  <thead>\n",
              "    <tr style=\"text-align: right;\">\n",
              "      <th></th>\n",
              "      <th>period</th>\n",
              "      <th>cgi</th>\n",
              "    </tr>\n",
              "  </thead>\n",
              "  <tbody>\n",
              "    <tr>\n",
              "      <th>0</th>\n",
              "      <td>201901</td>\n",
              "      <td>104.606597</td>\n",
              "    </tr>\n",
              "    <tr>\n",
              "      <th>1</th>\n",
              "      <td>201902</td>\n",
              "      <td>91.543648</td>\n",
              "    </tr>\n",
              "    <tr>\n",
              "      <th>2</th>\n",
              "      <td>201903</td>\n",
              "      <td>101.346404</td>\n",
              "    </tr>\n",
              "    <tr>\n",
              "      <th>3</th>\n",
              "      <td>201904</td>\n",
              "      <td>98.113456</td>\n",
              "    </tr>\n",
              "    <tr>\n",
              "      <th>4</th>\n",
              "      <td>201905</td>\n",
              "      <td>105.569370</td>\n",
              "    </tr>\n",
              "    <tr>\n",
              "      <th>5</th>\n",
              "      <td>201906</td>\n",
              "      <td>106.861123</td>\n",
              "    </tr>\n",
              "    <tr>\n",
              "      <th>6</th>\n",
              "      <td>201907</td>\n",
              "      <td>107.665693</td>\n",
              "    </tr>\n",
              "    <tr>\n",
              "      <th>7</th>\n",
              "      <td>201908</td>\n",
              "      <td>113.932133</td>\n",
              "    </tr>\n",
              "    <tr>\n",
              "      <th>8</th>\n",
              "      <td>201909</td>\n",
              "      <td>104.759690</td>\n",
              "    </tr>\n",
              "    <tr>\n",
              "      <th>9</th>\n",
              "      <td>201910</td>\n",
              "      <td>96.837257</td>\n",
              "    </tr>\n",
              "    <tr>\n",
              "      <th>10</th>\n",
              "      <td>201911</td>\n",
              "      <td>93.267420</td>\n",
              "    </tr>\n",
              "    <tr>\n",
              "      <th>11</th>\n",
              "      <td>201912</td>\n",
              "      <td>102.158676</td>\n",
              "    </tr>\n",
              "    <tr>\n",
              "      <th>12</th>\n",
              "      <td>202001</td>\n",
              "      <td>103.048132</td>\n",
              "    </tr>\n",
              "    <tr>\n",
              "      <th>13</th>\n",
              "      <td>202002</td>\n",
              "      <td>91.084384</td>\n",
              "    </tr>\n",
              "    <tr>\n",
              "      <th>14</th>\n",
              "      <td>202003</td>\n",
              "      <td>89.339223</td>\n",
              "    </tr>\n",
              "    <tr>\n",
              "      <th>15</th>\n",
              "      <td>202004</td>\n",
              "      <td>84.443711</td>\n",
              "    </tr>\n",
              "    <tr>\n",
              "      <th>16</th>\n",
              "      <td>202005</td>\n",
              "      <td>79.545826</td>\n",
              "    </tr>\n",
              "  </tbody>\n",
              "</table>\n",
              "</div>"
            ],
            "text/plain": [
              "    period         cgi\n",
              "0   201901  104.606597\n",
              "1   201902   91.543648\n",
              "2   201903  101.346404\n",
              "3   201904   98.113456\n",
              "4   201905  105.569370\n",
              "5   201906  106.861123\n",
              "6   201907  107.665693\n",
              "7   201908  113.932133\n",
              "8   201909  104.759690\n",
              "9   201910   96.837257\n",
              "10  201911   93.267420\n",
              "11  201912  102.158676\n",
              "12  202001  103.048132\n",
              "13  202002   91.084384\n",
              "14  202003   89.339223\n",
              "15  202004   84.443711\n",
              "16  202005   79.545826"
            ]
          },
          "metadata": {
            "tags": []
          },
          "execution_count": 48
        }
      ]
    },
    {
      "cell_type": "code",
      "metadata": {
        "id": "-pwemdTiwS3f",
        "colab_type": "code",
        "colab": {}
      },
      "source": [
        "# 이해하기 쉽게 period value값 변경 \n",
        "index2['period'] = ['19년 01월','19년 02월','19년 03월','19년 04월','19년 05월','19년 06월','19년 07월','19년 08월','19년 09월','19년 10월','19년 11월','19년 12월','20년 1월','20년 2월',\n",
        "                    '20년 3월','20년 4월','20년 5월']"
      ],
      "execution_count": 49,
      "outputs": []
    },
    {
      "cell_type": "code",
      "metadata": {
        "id": "A2_vjHNKwSpB",
        "colab_type": "code",
        "colab": {
          "base_uri": "https://localhost:8080/",
          "height": 570
        },
        "outputId": "af25d3fd-e763-4a3a-b7e3-e85cdfadf111"
      },
      "source": [
        "index2"
      ],
      "execution_count": 50,
      "outputs": [
        {
          "output_type": "execute_result",
          "data": {
            "text/html": [
              "<div>\n",
              "<style scoped>\n",
              "    .dataframe tbody tr th:only-of-type {\n",
              "        vertical-align: middle;\n",
              "    }\n",
              "\n",
              "    .dataframe tbody tr th {\n",
              "        vertical-align: top;\n",
              "    }\n",
              "\n",
              "    .dataframe thead th {\n",
              "        text-align: right;\n",
              "    }\n",
              "</style>\n",
              "<table border=\"1\" class=\"dataframe\">\n",
              "  <thead>\n",
              "    <tr style=\"text-align: right;\">\n",
              "      <th></th>\n",
              "      <th>period</th>\n",
              "      <th>cgi</th>\n",
              "    </tr>\n",
              "  </thead>\n",
              "  <tbody>\n",
              "    <tr>\n",
              "      <th>0</th>\n",
              "      <td>19년 01월</td>\n",
              "      <td>104.606597</td>\n",
              "    </tr>\n",
              "    <tr>\n",
              "      <th>1</th>\n",
              "      <td>19년 02월</td>\n",
              "      <td>91.543648</td>\n",
              "    </tr>\n",
              "    <tr>\n",
              "      <th>2</th>\n",
              "      <td>19년 03월</td>\n",
              "      <td>101.346404</td>\n",
              "    </tr>\n",
              "    <tr>\n",
              "      <th>3</th>\n",
              "      <td>19년 04월</td>\n",
              "      <td>98.113456</td>\n",
              "    </tr>\n",
              "    <tr>\n",
              "      <th>4</th>\n",
              "      <td>19년 05월</td>\n",
              "      <td>105.569370</td>\n",
              "    </tr>\n",
              "    <tr>\n",
              "      <th>5</th>\n",
              "      <td>19년 06월</td>\n",
              "      <td>106.861123</td>\n",
              "    </tr>\n",
              "    <tr>\n",
              "      <th>6</th>\n",
              "      <td>19년 07월</td>\n",
              "      <td>107.665693</td>\n",
              "    </tr>\n",
              "    <tr>\n",
              "      <th>7</th>\n",
              "      <td>19년 08월</td>\n",
              "      <td>113.932133</td>\n",
              "    </tr>\n",
              "    <tr>\n",
              "      <th>8</th>\n",
              "      <td>19년 09월</td>\n",
              "      <td>104.759690</td>\n",
              "    </tr>\n",
              "    <tr>\n",
              "      <th>9</th>\n",
              "      <td>19년 10월</td>\n",
              "      <td>96.837257</td>\n",
              "    </tr>\n",
              "    <tr>\n",
              "      <th>10</th>\n",
              "      <td>19년 11월</td>\n",
              "      <td>93.267420</td>\n",
              "    </tr>\n",
              "    <tr>\n",
              "      <th>11</th>\n",
              "      <td>19년 12월</td>\n",
              "      <td>102.158676</td>\n",
              "    </tr>\n",
              "    <tr>\n",
              "      <th>12</th>\n",
              "      <td>20년 1월</td>\n",
              "      <td>103.048132</td>\n",
              "    </tr>\n",
              "    <tr>\n",
              "      <th>13</th>\n",
              "      <td>20년 2월</td>\n",
              "      <td>91.084384</td>\n",
              "    </tr>\n",
              "    <tr>\n",
              "      <th>14</th>\n",
              "      <td>20년 3월</td>\n",
              "      <td>89.339223</td>\n",
              "    </tr>\n",
              "    <tr>\n",
              "      <th>15</th>\n",
              "      <td>20년 4월</td>\n",
              "      <td>84.443711</td>\n",
              "    </tr>\n",
              "    <tr>\n",
              "      <th>16</th>\n",
              "      <td>20년 5월</td>\n",
              "      <td>79.545826</td>\n",
              "    </tr>\n",
              "  </tbody>\n",
              "</table>\n",
              "</div>"
            ],
            "text/plain": [
              "     period         cgi\n",
              "0   19년 01월  104.606597\n",
              "1   19년 02월   91.543648\n",
              "2   19년 03월  101.346404\n",
              "3   19년 04월   98.113456\n",
              "4   19년 05월  105.569370\n",
              "5   19년 06월  106.861123\n",
              "6   19년 07월  107.665693\n",
              "7   19년 08월  113.932133\n",
              "8   19년 09월  104.759690\n",
              "9   19년 10월   96.837257\n",
              "10  19년 11월   93.267420\n",
              "11  19년 12월  102.158676\n",
              "12   20년 1월  103.048132\n",
              "13   20년 2월   91.084384\n",
              "14   20년 3월   89.339223\n",
              "15   20년 4월   84.443711\n",
              "16   20년 5월   79.545826"
            ]
          },
          "metadata": {
            "tags": []
          },
          "execution_count": 50
        }
      ]
    }
  ]
}